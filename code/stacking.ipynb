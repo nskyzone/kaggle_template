{
 "cells": [
  {
   "cell_type": "markdown",
   "metadata": {},
   "source": [
    "# 训练模型"
   ]
  },
  {
   "cell_type": "code",
   "execution_count": 2,
   "metadata": {},
   "outputs": [],
   "source": [
    "import pandas as pd\n",
    "import numpy as np\n",
    "import xgboost\n",
    "import lightgbm"
   ]
  },
  {
   "cell_type": "code",
   "execution_count": null,
   "metadata": {},
   "outputs": [],
   "source": [
    "from sklearn.model_selection import StratifiedKFold\n",
    "\n",
    "def get_out_fold(model, x_train, y_train, x_predict,SEED=2018, NFOLDS=5, fit_params={}):\n",
    "    kf = StratifiedKFold(n_splits = NFOLDS, random_state=SEED, shuffle=True)\n",
    "    oof_train = np.zeros((x_train.shape[0],))\n",
    "    oof_predict = np.zeros((x_predict.shape[0],))\n",
    "    oof_predict_skf = np.empty((NFOLDS, x_predict.shape[0]))\n",
    "\n",
    "    for i, (train_index, predict_index) in enumerate(kf.split(x_train,y_train)):\n",
    "        x_tr = x_train.Discuss_seq[train_index]\n",
    "        y_tr = y_train[train_index]\n",
    "        x_te = x_train.Discuss_seq[predict_index]\n",
    "\n",
    "        # clf.fit(x_tr, y_tr)\n",
    "        # model.reset_states()\n",
    "        model.fit(x_tr, y_tr, **fit_params)\n",
    "\n",
    "        oof_train[predict_index] = model.predict(x_te).squeeze()\n",
    "        oof_predict_skf[i, :] = model.predict(x_predict).squeeze()\n",
    "\n",
    "    # oof_predict[:] = oof_predict_skf.mean(axis=0)\n",
    "    return oof_train, oof_predict_skf.mean(axis=0)\n",
    "\n",
    "# 先用100样本快速测试\n",
    "# fit_params={}\n",
    "# cnn_oof_train, cnn_oof_test = get_out_fold(model,x_train,y_train,x_predict)"
   ]
  },
  {
   "cell_type": "code",
   "execution_count": null,
   "metadata": {},
   "outputs": [],
   "source": [
    "from sklearn.svm import SVC,SVR\n",
    "from sklearn.ensemble import RandomForestRegressor,RandomForestClassifier\n",
    "from sklearn.ensemble import AdaBoostRegressor,AdaBoostClassifier\n",
    "from sklearn.ensemble import ExtraTreesRegressor,ExtraTreesClassifier\n",
    "from sklearn.ensemble import GradientBoostingRegressor,GradientBoostingClassifier\n",
    "from sklearn.tree import DecisionTreeClassifier,DecisionTreeRegressor\n",
    "from sklearn.ensemble import BaggingClassifier,BaggingRegressor\n",
    "from sklearn.neighbors import KNeighborsRegressor\n",
    "def gen_model():\n",
    "    rf = RandomForestClassifier(n_estimators=500, warm_start=True, max_features='sqrt',max_depth=6, \n",
    "                                min_samples_split=3, min_samples_leaf=2, n_jobs=-1, verbose=0)\n",
    "    ridge = Ridge(solver='auto', fit_intercept=True, alpha=1, max_iter=250, normalize=False, tol=0.01)\n",
    "\n",
    "    ada = AdaBoostRegressor(n_estimators=500, learning_rate=0.1)\n",
    "\n",
    "    et = ExtraTreesRegressor(n_estimators=500, n_jobs=-1, max_depth=8, min_samples_leaf=2, verbose=0)\n",
    "\n",
    "    gb = GradientBoostingRegressor(n_estimators=500, learning_rate=0.008, min_samples_split=3, min_samples_leaf=2, max_depth=5, verbose=0)\n",
    "\n",
    "    dt = DecisionTreeRegressor(max_depth=8)\n",
    "\n",
    "    knn = KNeighborsRegressor(n_neighbors = 2)\n",
    "\n",
    "    svm = SVR(kernel='linear', C=0.025)\n",
    "    return rf,ridge,ada,et,gb,dt,knn"
   ]
  },
  {
   "cell_type": "code",
   "execution_count": 3,
   "metadata": {},
   "outputs": [],
   "source": [
    "\n",
    "def train_model(rf,ridge,ada,et,gb,dt,knn):\n",
    "    ridge_oof_train, ridge_oof_test = get_out_fold(ridge, x_train, y_train, x_predit) # Ridge\n",
    "    rf_oof_train, rf_oof_test = get_out_fold(rf, x_train, y_train, x_predit) # Random Forest\n",
    "    ada_oof_train, ada_oof_test = get_out_fold(ada, x_train, y_train, x_predit) # AdaBoost \n",
    "    et_oof_train, et_oof_test = get_out_fold(et, x_train, y_train, x_predit) # Extra Trees\n",
    "    gb_oof_train, gb_oof_test = get_out_fold(gb, x_train, y_train, x_predit) # Gradient Boost\n",
    "    dt_oof_train, dt_oof_test = get_out_fold(dt, x_train, y_train, x_predit) # Decision Tree\n",
    "    knn_oof_train, knn_oof_test = get_out_fold(knn, x_train, y_train, x_predit) # KNeighbors\n",
    "    svm_oof_train, svm_oof_test = get_out_fold(svm, x_train, y_train, x_predit) # Support Vector\n",
    "    return (ridge_oof_train,rf_oof_train,ada_oof_train,gb_oof_train,dt_oof_train),(ridge_oof_test,rf_oof_test,ada_oof_test,gb_oof_test,dt_oof_test)"
   ]
  },
  {
   "cell_type": "markdown",
   "metadata": {},
   "source": [
    "# 加载cv数据作为训练"
   ]
  },
  {
   "cell_type": "code",
   "execution_count": null,
   "metadata": {},
   "outputs": [],
   "source": [
    "ridge_oof_cv = pd.read_csv('../data/ridge_oof_cv.csv')\n",
    "ridge_oof_predict = pd.read_csv('../data/ridge_oof_predict.csv')\n",
    "\n",
    "ada_oof_cv = pd.read_csv('../data/ada_oof_cv.csv')\n",
    "ada_oof_predict = pd.read_csv('../data/ada_oof_predict.csv')\n",
    "\n",
    "rf_oof_cv = pd.read_csv('../data/rf_oof_cv.csv')\n",
    "rf_oof_predict = pd.read_csv('../data/rf_oof_predict.csv')\n",
    "\n",
    "gb_oof_cv = pd.read_csv('../data/gb_oof_cv.csv')\n",
    "gb_oof_predict = pd.read_csv('../data/gb_oof_predict.csv')\n",
    "\n",
    "dt_oof_cv = pd.read_csv('../data/dt_oof_cv.csv')\n",
    "dt_oof_predict = pd.read_csv('../data/dt_oof_predict.csv')\n",
    "\n",
    "svm_oof_cv = pd.read_csv('../data/svm_oof_cv.csv')\n",
    "svm_oof_predict = pd.read_csv('../data/svm_oof_predict.csv')\n",
    "\n",
    "cnn_oof_cv = pd.read_csv('../data/cnn_oof_cv.csv')\n",
    "cnn_oof_predict = pd.read_csv('../data/cnn_oof_predict.csv')\n",
    "\n",
    "rnn_oof_cv = pd.read_csv('../data/rnn_oof_cv.csv')\n",
    "rnn_oof_predict = pd.read_csv('../data/rnn_oof_predict.csv')"
   ]
  },
  {
   "cell_type": "code",
   "execution_count": null,
   "metadata": {},
   "outputs": [],
   "source": [
    "x_train = np.concatenate((rf_oof_train, ada_oof_train, et_oof_train, gb_oof_train, dt_oof_train, knn_oof_train, svm_oof_train), axis=1)\n",
    "x_test = np.concatenate((rf_oof_test, ada_oof_test, et_oof_test, gb_oof_test, dt_oof_test, knn_oof_test, svm_oof_test), axis=1)"
   ]
  },
  {
   "cell_type": "code",
   "execution_count": null,
   "metadata": {},
   "outputs": [],
   "source": [
    "gbm = xgboost.XGBRegressor( n_estimators= 2000, max_depth= 4, min_child_weight= 2, gamma=0.9, subsample=0.8, \n",
    "                        colsample_bytree=0.8, objective= 'binary:logistic', nthread= -1, scale_pos_weight=1).fit(x_train, y_train)\n",
    "predictions = gbm.predict(x_test)"
   ]
  }
 ],
 "metadata": {
  "kernelspec": {
   "display_name": "Python 2",
   "language": "python",
   "name": "python2"
  },
  "language_info": {
   "codemirror_mode": {
    "name": "ipython",
    "version": 2
   },
   "file_extension": ".py",
   "mimetype": "text/x-python",
   "name": "python",
   "nbconvert_exporter": "python",
   "pygments_lexer": "ipython2",
   "version": "2.7.14"
  }
 },
 "nbformat": 4,
 "nbformat_minor": 2
}
